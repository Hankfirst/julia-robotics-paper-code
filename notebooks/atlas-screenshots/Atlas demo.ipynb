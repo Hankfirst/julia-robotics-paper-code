{
 "cells": [
  {
   "cell_type": "code",
   "execution_count": null,
   "metadata": {},
   "outputs": [],
   "source": [
    "using Pkg\n",
    "pkg\"activate .\""
   ]
  },
  {
   "cell_type": "code",
   "execution_count": null,
   "metadata": {},
   "outputs": [],
   "source": [
    "using AtlasRobot\n",
    "using MeshCatMechanisms\n",
    "using MeshCat\n",
    "using Blink\n",
    "using Rotations\n",
    "using CoordinateTransformations\n",
    "using RigidBodyDynamics\n",
    "using RigidBodyDynamics.Graphs"
   ]
  },
  {
   "cell_type": "code",
   "execution_count": null,
   "metadata": {},
   "outputs": [],
   "source": [
    "vis = Visualizer()\n",
    "open(vis, Window())"
   ]
  },
  {
   "cell_type": "code",
   "execution_count": null,
   "metadata": {},
   "outputs": [],
   "source": [
    "delete!(vis)\n",
    "mechanism = AtlasRobot.mechanism()\n",
    "mvis = MechanismVisualizer(mechanism, \n",
    "    URDFVisuals(\"/home/rdeits/.julia/dev/AtlasRobot/deps/Atlas/atlas.urdf\", \n",
    "        package_path=[AtlasRobot.packagepath()]),\n",
    "    vis)"
   ]
  },
  {
   "cell_type": "code",
   "execution_count": null,
   "metadata": {},
   "outputs": [],
   "source": [
    "hand_urdf = \"/home/rdeits/locomotion/drake-agile/drake/examples/Atlas/urdf/robotiq_simple.urdf\"\n",
    "hand = parse_urdf(Float64, hand_urdf)\n",
    "\n",
    "for side in [\"left\", \"right\"]\n",
    "    path_to_hand = [\n",
    "        :world, \n",
    "        [Symbol(target(j, mechanism.tree)) for j in path(mechanism, root_body(mechanism), \n",
    "                                                         findbody(mechanism, \"$(side[1])_hand\"))]...,\n",
    "        Symbol(\"after_$(side)_palm_joint\")\n",
    "    ]\n",
    "    delete!(vis[path_to_hand...])\n",
    "    MechanismVisualizer(hand, \n",
    "        URDFVisuals(hand_urdf, package_path=[\"/home/rdeits/locomotion/drake-agile/drake/examples\"]),\n",
    "        vis[path_to_hand...]\n",
    "    )\n",
    "    settransform!(vis[path_to_hand...], LinearMap(RotZ(π)) ∘ Translation(0, 0.15, 0))\n",
    "end"
   ]
  },
  {
   "cell_type": "code",
   "execution_count": null,
   "metadata": {},
   "outputs": [],
   "source": [
    "state = MechanismState(mechanism)\n",
    "AtlasRobot.setnominal!(state)\n",
    "\n",
    "set_configuration!(state, findjoint(mechanism, \"r_arm_shz\"), -0.8)\n",
    "set_configuration!(state, findjoint(mechanism, \"r_arm_shx\"), 1.0)\n",
    "set_configuration!(state, findjoint(mechanism, \"r_arm_ely\"), 2.5)\n",
    "set_configuration!(state, findjoint(mechanism, \"r_arm_elx\"), -0.8)\n",
    "set_configuration!(state, findjoint(mechanism, \"r_arm_uwy\"), 3)\n",
    "set_configuration!(state, findjoint(mechanism, \"l_arm_shz\"), 0.8)\n",
    "set_configuration!(state, findjoint(mechanism, \"l_arm_shx\"), -1.0)\n",
    "set_configuration!(state, findjoint(mechanism, \"l_arm_ely\"), 2.5)\n",
    "set_configuration!(state, findjoint(mechanism, \"l_arm_elx\"), 0.8)\n",
    "set_configuration!(state, findjoint(mechanism, \"l_arm_uwy\"), 0)\n",
    "copyto!(mvis, state)"
   ]
  },
  {
   "cell_type": "code",
   "execution_count": null,
   "metadata": {},
   "outputs": [],
   "source": []
  }
 ],
 "metadata": {
  "kernelspec": {
   "display_name": "Julia 1.0.0",
   "language": "julia",
   "name": "julia-1.0"
  },
  "language_info": {
   "file_extension": ".jl",
   "mimetype": "application/julia",
   "name": "julia",
   "version": "1.0.0"
  }
 },
 "nbformat": 4,
 "nbformat_minor": 2
}
