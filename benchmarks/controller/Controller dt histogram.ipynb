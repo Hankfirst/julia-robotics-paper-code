{
 "cells": [
  {
   "cell_type": "code",
   "execution_count": 1,
   "metadata": {},
   "outputs": [],
   "source": [
    "using Pkg\n",
    "pkg\"activate .\""
   ]
  },
  {
   "cell_type": "markdown",
   "metadata": {},
   "source": [
    "## Usage\n",
    "\n",
    "Run the `./run_lcm_timing.sh` script, which will simulate the robot for 10 seconds and generate an LCM log."
   ]
  },
  {
   "cell_type": "code",
   "execution_count": 5,
   "metadata": {},
   "outputs": [
    {
     "name": "stderr",
     "output_type": "stream",
     "text": [
      "┌ Info: Recompiling stale cache file /home/rdeits/.julia/compiled/v1.0/BotCoreLCMTypes/3Q2Ac.ji for BotCoreLCMTypes [fce17d29-6d86-5006-bee5-0f8b6f52dd81]\n",
      "└ @ Base loading.jl:1184\n"
     ]
    }
   ],
   "source": [
    "using Plots\n",
    "using BotCoreLCMTypes\n",
    "using LCMCore"
   ]
  },
  {
   "cell_type": "code",
   "execution_count": 21,
   "metadata": {},
   "outputs": [],
   "source": [
    "controller_dts = let\n",
    "    lcmlog = LCMLog(\"lcmlog-2018-09-15.00\")  # Change this to your actual LCM log filename\n",
    "    last_state_timestamp = 0\n",
    "    last_state_utime = 0\n",
    "    controller_dts = Int64[]\n",
    "\n",
    "    while isgood(lcmlog)\n",
    "        event = LCMCore.read_next_event(lcmlog)\n",
    "        if event === nothing\n",
    "            break\n",
    "        end\n",
    "        channel = unsafe_string(event.channel, event.channellen)\n",
    "        if channel == \"EST_ROBOT_STATE\"\n",
    "            msgdata = unsafe_wrap(Vector{UInt8}, event.data, event.datalen)\n",
    "            msg = decode(msgdata, robot_state_t)\n",
    "#             println(\"state:\\t\\t\", msg.utime)\n",
    "            last_state_timestamp = event.timestamp\n",
    "            last_state_utime = msg.utime\n",
    "        elseif channel == \"ATLAS_COMMAND\"\n",
    "            msgdata = unsafe_wrap(Vector{UInt8}, event.data, event.datalen)\n",
    "            msg = decode(msgdata, atlas_command_t)\n",
    "#             println(\"control:\\t\", msg.utime)\n",
    "            @assert isapprox(msg.utime, last_state_utime, atol=1)\n",
    "            push!(controller_dts, event.timestamp - last_state_timestamp)\n",
    "        end\n",
    "    end\n",
    "    controller_dts\n",
    "end\n",
    "\n",
    "close(lcmlog)"
   ]
  },
  {
   "cell_type": "code",
   "execution_count": 25,
   "metadata": {},
   "outputs": [],
   "source": [
    "plt = histogram(controller_dts[2:end])\n",
    "savefig(\"controller_dt_histogram.svg\")\n",
    "savefig(\"controller_dt_histogram.png\")\n",
    "plt"
   ]
  }
 ],
 "metadata": {
  "kernelspec": {
   "display_name": "Julia 1.0.0",
   "language": "julia",
   "name": "julia-1.0"
  },
  "language_info": {
   "file_extension": ".jl",
   "mimetype": "application/julia",
   "name": "julia",
   "version": "1.0.0"
  }
 },
 "nbformat": 4,
 "nbformat_minor": 2
}
